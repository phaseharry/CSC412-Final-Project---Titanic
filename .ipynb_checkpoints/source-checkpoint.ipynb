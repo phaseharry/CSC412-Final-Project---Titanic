{
 "cells": [
  {
   "cell_type": "markdown",
   "id": "8ce28108",
   "metadata": {},
   "source": [
    "# CSC 412 - Titanic\n",
    "Abayomi Shosilva\\\n",
    "Alexandria Thorpe\\\n",
    "Harry Chen\n",
    "\n",
    "Using the Titanic passenger survival data, we want to train three machine learning models to have it predict whether a passenger will survive or not, given the data we have on each passenger. The data we have on each passenger includes \n",
    "\n",
    "<ul>\n",
    "    <li>PassengerId - assigned unique identifier to each passenger</li>\n",
    "    <li>Survived - whether a passenger survived or not</li>\n",
    "    <li>Pclass - passenger class</li>\n",
    "    <li>Name - name of the passenger</li>\n",
    "    <li>Sex - gender of the passenger</li>\n",
    "    <li>Age - age of the passenger</li>\n",
    "    <li>SibSp - ratio of sibling count / spouses count on board (# of siblings /spouses)</li>\n",
    "    <li>Parch - ratio of parent count / children on board (# of parents / children)</li>\n",
    "    <li>Ticket - ticket number</li>\n",
    "    <li>Fare - cost of the ticket to get onboard</li>\n",
    "    <li>Cabin - cabin of titanic the passenger stayed in</li>\n",
    "    <li>Embarked - Location the passenger embarked from</li>\n",
    "</ul>\n",
    " \n",
    " Before we even run any processing on this data, we believe there are specific indicators that will heavily influence the survival of a passenger. We believe passenger class and the fare cost will heavily determine who survived versus who did not. Richer passengers who have a first class ticket obviously paid more in fare and thus, probably had higher priority on lifeboats. \n",
    "    "
   ]
  },
  {
   "cell_type": "markdown",
   "id": "47b9370a",
   "metadata": {},
   "source": [
    "First, we import all necessary libraries and modules. These are used for processing the data and for running the machine learning algorithms on that data."
   ]
  },
  {
   "cell_type": "code",
   "execution_count": 1,
   "id": "0cd04cca",
   "metadata": {},
   "outputs": [],
   "source": [
    "# pandas is used to load and manipulate data and for One-Hot Encoding\n",
    "import pandas as pd\n",
    "import numpy as np # data manipulation\n",
    "import matplotlib.pyplot as plt # matplotlib is for drawing graphs\n",
    "import matplotlib.colors as colors\n",
    "from sklearn.utils import resample # downsample the dataset\n",
    "from sklearn.model_selection import train_test_split # split data into training and testing sets\n",
    "from sklearn.preprocessing import scale # scale and center data\n",
    "from sklearn.svm import SVC # this will make a support vector machine for classificaiton\n",
    "from sklearn.model_selection import GridSearchCV # this will do cross validation\n",
    "from sklearn.metrics import confusion_matrix # this creates a confusion matrix\n",
    "from sklearn.metrics import plot_confusion_matrix # draws a confusion matrix\n",
    "from sklearn.decomposition import PCA # to perform PCA to plot the data\n",
    "from sklearn import preprocessing\n",
    "\n",
    "#For decision tree\n",
    "from sklearn.tree import DecisionTreeClassifier # Import Decision Tree Classifier\n",
    "from sklearn.linear_model import LogisticRegression #For Logistic Regression\n",
    "from sklearn.neighbors import KNeighborsClassifier #For K Nearest Neighbors\n",
    "from sklearn.model_selection import train_test_split # Import train_test_split function\n",
    "from sklearn import metrics #Import scikit-learn metrics module for accuracy calculation\n",
    "from sklearn import tree\n",
    "from sklearn.metrics import roc_curve, auc\n",
    "from sklearn.tree import export_text\n",
    "from sklearn.ensemble import RandomForestClassifier\n",
    "from sklearn.model_selection import train_test_split\n",
    "from sklearn.metrics import accuracy_score\n",
    "from sklearn.metrics import precision_score\n",
    "from sklearn.metrics import recall_score\n",
    "from sklearn.metrics import f1_score\n",
    "from sklearn.metrics import roc_auc_score\n",
    "from sklearn.model_selection import cross_val_score"
   ]
  },
  {
   "cell_type": "markdown",
   "id": "a271ea9a",
   "metadata": {},
   "source": [
    "Next, we read in the data from the titanic.csv file. We print the first few lines of this dataset and "
   ]
  },
  {
   "cell_type": "code",
   "execution_count": 2,
   "id": "21e9cf60",
   "metadata": {},
   "outputs": [
    {
     "name": "stdout",
     "output_type": "stream",
     "text": [
      "   PassengerId  Survived  Pclass  \\\n",
      "0            1         0       3   \n",
      "1            2         1       1   \n",
      "2            3         1       3   \n",
      "3            4         1       1   \n",
      "4            5         0       3   \n",
      "\n",
      "                                                Name     Sex   Age  SibSp  \\\n",
      "0                            Braund, Mr. Owen Harris    male  22.0      1   \n",
      "1  Cumings, Mrs. John Bradley (Florence Briggs Th...  female  38.0      1   \n",
      "2                             Heikkinen, Miss. Laina  female  26.0      0   \n",
      "3       Futrelle, Mrs. Jacques Heath (Lily May Peel)  female  35.0      1   \n",
      "4                           Allen, Mr. William Henry    male  35.0      0   \n",
      "\n",
      "   Parch            Ticket     Fare Cabin Embarked  \n",
      "0      0         A/5 21171   7.2500   NaN        S  \n",
      "1      0          PC 17599  71.2833   C85        C  \n",
      "2      0  STON/O2. 3101282   7.9250   NaN        S  \n",
      "3      0            113803  53.1000  C123        S  \n",
      "4      0            373450   8.0500   NaN        S  \n"
     ]
    }
   ],
   "source": [
    "df = pd.read_csv('titanic.csv', header=0)\n",
    "\n",
    "print(df.head())"
   ]
  },
  {
   "cell_type": "markdown",
   "id": "2ca8cf18",
   "metadata": {},
   "source": [
    "We want to see how many passengers/records in this dataset to see how much data we have to work with."
   ]
  },
  {
   "cell_type": "code",
   "execution_count": 3,
   "id": "3e46b15a",
   "metadata": {},
   "outputs": [
    {
     "name": "stdout",
     "output_type": "stream",
     "text": [
      "There are 891 records in this dataset.\n"
     ]
    }
   ],
   "source": [
    "print('There are '+ str(len(df)) + ' records in this dataset.')"
   ]
  },
  {
   "cell_type": "markdown",
   "id": "624e2962",
   "metadata": {},
   "source": [
    "Looking through the dataset, we believe there are a few columns in the dataset that will not add any value when we use it to train and test our models. This includes ```PassengerId``` and the ```Name``` column. ```PassengerId``` is an assigned unique identifier given to each passenger and ```Name``` is the actual name of the passenger. These fields do not provide any useful data in determining whether the passenger survived or not. We will remove these columns from our dataset. "
   ]
  },
  {
   "cell_type": "code",
   "execution_count": 4,
   "id": "08e30751",
   "metadata": {},
   "outputs": [
    {
     "name": "stdout",
     "output_type": "stream",
     "text": [
      "   Survived  Pclass     Sex   Age  SibSp  Parch            Ticket     Fare  \\\n",
      "0         0       3    male  22.0      1      0         A/5 21171   7.2500   \n",
      "1         1       1  female  38.0      1      0          PC 17599  71.2833   \n",
      "2         1       3  female  26.0      0      0  STON/O2. 3101282   7.9250   \n",
      "3         1       1  female  35.0      1      0            113803  53.1000   \n",
      "4         0       3    male  35.0      0      0            373450   8.0500   \n",
      "\n",
      "  Cabin Embarked  \n",
      "0   NaN        S  \n",
      "1   C85        C  \n",
      "2   NaN        S  \n",
      "3  C123        S  \n",
      "4   NaN        S  \n"
     ]
    }
   ],
   "source": [
    "df.drop('PassengerId', axis=1, inplace=True) # removing \"PassengerId\" as a column from the data\n",
    "df.drop('Name', axis=1, inplace=True) # removing \"Name\" as a column from the data\n",
    "print(df.head())"
   ]
  },
  {
   "cell_type": "markdown",
   "id": "b158dbf0",
   "metadata": {},
   "source": [
    "After removing the unnecessary fields from our data, we want to get to know our data better. We want to know what values are in each column and we want to know if there are any rows that have missing values for columns. To do this, we will look through all columns and check for their unique values."
   ]
  },
  {
   "cell_type": "code",
   "execution_count": 5,
   "id": "87c2cd97",
   "metadata": {},
   "outputs": [
    {
     "name": "stdout",
     "output_type": "stream",
     "text": [
      "Unique values for Survived: \n",
      "[0 1]\n",
      "\n",
      "\n",
      "Unique values for Pclass: \n",
      "[3 1 2]\n",
      "\n",
      "\n",
      "Unique values for Sex: \n",
      "['male' 'female']\n",
      "\n",
      "\n",
      "Unique values for Age: \n",
      "[22.   38.   26.   35.     nan 54.    2.   27.   14.    4.   58.   20.\n",
      " 39.   55.   31.   34.   15.   28.    8.   19.   40.   66.   42.   21.\n",
      " 18.    3.    7.   49.   29.   65.   28.5   5.   11.   45.   17.   32.\n",
      " 16.   25.    0.83 30.   33.   23.   24.   46.   59.   71.   37.   47.\n",
      " 14.5  70.5  32.5  12.    9.   36.5  51.   55.5  40.5  44.    1.   61.\n",
      " 56.   50.   36.   45.5  20.5  62.   41.   52.   63.   23.5   0.92 43.\n",
      " 60.   10.   64.   13.   48.    0.75 53.   57.   80.   70.   24.5   6.\n",
      "  0.67 30.5   0.42 34.5  74.  ]\n",
      "\n",
      "\n",
      "Unique values for SibSp: \n",
      "[1 0 3 4 2 5 8]\n",
      "\n",
      "\n",
      "Unique values for Parch: \n",
      "[0 1 2 5 3 4 6]\n",
      "\n",
      "\n",
      "Unique values for Ticket: \n",
      "['A/5 21171' 'PC 17599' 'STON/O2. 3101282' '113803' '373450' '330877'\n",
      " '17463' '349909' '347742' '237736' 'PP 9549' '113783' 'A/5. 2151'\n",
      " '347082' '350406' '248706' '382652' '244373' '345763' '2649' '239865'\n",
      " '248698' '330923' '113788' '347077' '2631' '19950' '330959' '349216'\n",
      " 'PC 17601' 'PC 17569' '335677' 'C.A. 24579' 'PC 17604' '113789' '2677'\n",
      " 'A./5. 2152' '345764' '2651' '7546' '11668' '349253' 'SC/Paris 2123'\n",
      " '330958' 'S.C./A.4. 23567' '370371' '14311' '2662' '349237' '3101295'\n",
      " 'A/4. 39886' 'PC 17572' '2926' '113509' '19947' 'C.A. 31026' '2697'\n",
      " 'C.A. 34651' 'CA 2144' '2669' '113572' '36973' '347088' 'PC 17605' '2661'\n",
      " 'C.A. 29395' 'S.P. 3464' '3101281' '315151' 'C.A. 33111' 'S.O.C. 14879'\n",
      " '2680' '1601' '348123' '349208' '374746' '248738' '364516' '345767'\n",
      " '345779' '330932' '113059' 'SO/C 14885' '3101278' 'W./C. 6608'\n",
      " 'SOTON/OQ 392086' '343275' '343276' '347466' 'W.E.P. 5734' 'C.A. 2315'\n",
      " '364500' '374910' 'PC 17754' 'PC 17759' '231919' '244367' '349245'\n",
      " '349215' '35281' '7540' '3101276' '349207' '343120' '312991' '349249'\n",
      " '371110' '110465' '2665' '324669' '4136' '2627' 'STON/O 2. 3101294'\n",
      " '370369' 'PC 17558' 'A4. 54510' '27267' '370372' 'C 17369' '2668'\n",
      " '347061' '349241' 'SOTON/O.Q. 3101307' 'A/5. 3337' '228414' 'C.A. 29178'\n",
      " 'SC/PARIS 2133' '11752' '7534' 'PC 17593' '2678' '347081'\n",
      " 'STON/O2. 3101279' '365222' '231945' 'C.A. 33112' '350043' '230080'\n",
      " '244310' 'S.O.P. 1166' '113776' 'A.5. 11206' 'A/5. 851' 'Fa 265302'\n",
      " 'PC 17597' '35851' 'SOTON/OQ 392090' '315037' 'CA. 2343' '371362'\n",
      " 'C.A. 33595' '347068' '315093' '363291' '113505' 'PC 17318' '111240'\n",
      " 'STON/O 2. 3101280' '17764' '350404' '4133' 'PC 17595' '250653' 'LINE'\n",
      " 'SC/PARIS 2131' '230136' '315153' '113767' '370365' '111428' '364849'\n",
      " '349247' '234604' '28424' '350046' 'PC 17610' '368703' '4579' '370370'\n",
      " '248747' '345770' '3101264' '2628' 'A/5 3540' '347054' '2699' '367231'\n",
      " '112277' 'SOTON/O.Q. 3101311' 'F.C.C. 13528' 'A/5 21174' '250646'\n",
      " '367229' '35273' 'STON/O2. 3101283' '243847' '11813' 'W/C 14208'\n",
      " 'SOTON/OQ 392089' '220367' '21440' '349234' '19943' 'PP 4348' 'SW/PP 751'\n",
      " 'A/5 21173' '236171' '347067' '237442' 'C.A. 29566' 'W./C. 6609' '26707'\n",
      " 'C.A. 31921' '28665' 'SCO/W 1585' '367230' 'W./C. 14263'\n",
      " 'STON/O 2. 3101275' '2694' '19928' '347071' '250649' '11751' '244252'\n",
      " '362316' '113514' 'A/5. 3336' '370129' '2650' 'PC 17585' '110152'\n",
      " 'PC 17755' '230433' '384461' '110413' '112059' '382649' 'C.A. 17248'\n",
      " '347083' 'PC 17582' 'PC 17760' '113798' '250644' 'PC 17596' '370375'\n",
      " '13502' '347073' '239853' 'C.A. 2673' '336439' '347464' '345778'\n",
      " 'A/5. 10482' '113056' '349239' '345774' '349206' '237798' '370373'\n",
      " '19877' '11967' 'SC/Paris 2163' '349236' '349233' 'PC 17612' '2693'\n",
      " '113781' '19988' '9234' '367226' '226593' 'A/5 2466' '17421' 'PC 17758'\n",
      " 'P/PP 3381' 'PC 17485' '11767' 'PC 17608' '250651' '349243'\n",
      " 'F.C.C. 13529' '347470' '29011' '36928' '16966' 'A/5 21172' '349219'\n",
      " '234818' '345364' '28551' '111361' '113043' 'PC 17611' '349225' '7598'\n",
      " '113784' '248740' '244361' '229236' '248733' '31418' '386525'\n",
      " 'C.A. 37671' '315088' '7267' '113510' '2695' '2647' '345783' '237671'\n",
      " '330931' '330980' 'SC/PARIS 2167' '2691' 'SOTON/O.Q. 3101310' 'C 7076'\n",
      " '110813' '2626' '14313' 'PC 17477' '11765' '3101267' '323951' 'C 7077'\n",
      " '113503' '2648' '347069' 'PC 17757' '2653' 'STON/O 2. 3101293' '349227'\n",
      " '27849' '367655' 'SC 1748' '113760' '350034' '3101277' '350052' '350407'\n",
      " '28403' '244278' '240929' 'STON/O 2. 3101289' '341826' '4137' '315096'\n",
      " '28664' '347064' '29106' '312992' '349222' '394140' 'STON/O 2. 3101269'\n",
      " '343095' '28220' '250652' '28228' '345773' '349254' 'A/5. 13032' '315082'\n",
      " '347080' 'A/4. 34244' '2003' '250655' '364851' 'SOTON/O.Q. 392078'\n",
      " '110564' '376564' 'SC/AH 3085' 'STON/O 2. 3101274' '13507' 'C.A. 18723'\n",
      " '345769' '347076' '230434' '65306' '33638' '113794' '2666' '113786'\n",
      " '65303' '113051' '17453' 'A/5 2817' '349240' '13509' '17464'\n",
      " 'F.C.C. 13531' '371060' '19952' '364506' '111320' '234360' 'A/S 2816'\n",
      " 'SOTON/O.Q. 3101306' '113792' '36209' '323592' '315089' 'SC/AH Basle 541'\n",
      " '7553' '31027' '3460' '350060' '3101298' '239854' 'A/5 3594' '4134'\n",
      " '11771' 'A.5. 18509' '65304' 'SOTON/OQ 3101317' '113787' 'PC 17609'\n",
      " 'A/4 45380' '36947' 'C.A. 6212' '350035' '315086' '364846' '330909'\n",
      " '4135' '26360' '111427' 'C 4001' '382651' 'SOTON/OQ 3101316' 'PC 17473'\n",
      " 'PC 17603' '349209' '36967' 'C.A. 34260' '226875' '349242' '12749'\n",
      " '349252' '2624' '2700' '367232' 'W./C. 14258' 'PC 17483' '3101296'\n",
      " '29104' '2641' '2690' '315084' '113050' 'PC 17761' '364498' '13568'\n",
      " 'WE/P 5735' '2908' '693' 'SC/PARIS 2146' '244358' '330979' '2620'\n",
      " '347085' '113807' '11755' '345572' '372622' '349251' '218629'\n",
      " 'SOTON/OQ 392082' 'SOTON/O.Q. 392087' 'A/4 48871' '349205' '2686'\n",
      " '350417' 'S.W./PP 752' '11769' 'PC 17474' '14312' 'A/4. 20589' '358585'\n",
      " '243880' '2689' 'STON/O 2. 3101286' '237789' '13049' '3411' '237565'\n",
      " '13567' '14973' 'A./5. 3235' 'STON/O 2. 3101273' 'A/5 3902' '364848'\n",
      " 'SC/AH 29037' '248727' '2664' '349214' '113796' '364511' '111426'\n",
      " '349910' '349246' '113804' 'SOTON/O.Q. 3101305' '370377' '364512'\n",
      " '220845' '31028' '2659' '11753' '350029' '54636' '36963' '219533'\n",
      " '349224' '334912' '27042' '347743' '13214' '112052' '237668'\n",
      " 'STON/O 2. 3101292' '350050' '349231' '13213' 'S.O./P.P. 751' 'CA. 2314'\n",
      " '349221' '8475' '330919' '365226' '349223' '29751' '2623' '5727' '349210'\n",
      " 'STON/O 2. 3101285' '234686' '312993' 'A/5 3536' '19996' '29750'\n",
      " 'F.C. 12750' 'C.A. 24580' '244270' '239856' '349912' '342826' '4138'\n",
      " '330935' '6563' '349228' '350036' '24160' '17474' '349256' '2672'\n",
      " '113800' '248731' '363592' '35852' '348121' 'PC 17475' '36864' '350025'\n",
      " '223596' 'PC 17476' 'PC 17482' '113028' '7545' '250647' '348124' '34218'\n",
      " '36568' '347062' '350048' '12233' '250643' '113806' '315094' '36866'\n",
      " '236853' 'STON/O2. 3101271' '239855' '28425' '233639' '349201' '349218'\n",
      " '16988' '376566' 'STON/O 2. 3101288' '250648' '113773' '335097' '29103'\n",
      " '392096' '345780' '349204' '350042' '29108' '363294' 'SOTON/O2 3101272'\n",
      " '2663' '347074' '112379' '364850' '8471' '345781' '350047' 'S.O./P.P. 3'\n",
      " '2674' '29105' '347078' '383121' '36865' '2687' '113501' 'W./C. 6607'\n",
      " 'SOTON/O.Q. 3101312' '374887' '3101265' '12460' 'PC 17600' '349203'\n",
      " '28213' '17465' '349244' '2685' '2625' '347089' '347063' '112050'\n",
      " '347087' '248723' '3474' '28206' '364499' '112058' 'STON/O2. 3101290'\n",
      " 'S.C./PARIS 2079' 'C 7075' '315098' '19972' '368323' '367228' '2671'\n",
      " '347468' '2223' 'PC 17756' '315097' '392092' '11774' 'SOTON/O2 3101287'\n",
      " '2683' '315090' 'C.A. 5547' '349213' '347060' 'PC 17592' '392091'\n",
      " '113055' '2629' '350026' '28134' '17466' '233866' '236852'\n",
      " 'SC/PARIS 2149' 'PC 17590' '345777' '349248' '695' '345765' '2667'\n",
      " '349212' '349217' '349257' '7552' 'C.A./SOTON 34068' 'SOTON/OQ 392076'\n",
      " '211536' '112053' '111369' '370376']\n",
      "\n",
      "\n",
      "Unique values for Fare: \n",
      "[  7.25    71.2833   7.925   53.1      8.05     8.4583  51.8625  21.075\n",
      "  11.1333  30.0708  16.7     26.55    31.275    7.8542  16.      29.125\n",
      "  13.      18.       7.225   26.       8.0292  35.5     31.3875 263.\n",
      "   7.8792   7.8958  27.7208 146.5208   7.75    10.5     82.1708  52.\n",
      "   7.2292  11.2417   9.475   21.      41.5792  15.5     21.6792  17.8\n",
      "  39.6875   7.8     76.7292  61.9792  27.75    46.9     80.      83.475\n",
      "  27.9     15.2458   8.1583   8.6625  73.5     14.4542  56.4958   7.65\n",
      "  29.      12.475    9.       9.5      7.7875  47.1     15.85    34.375\n",
      "  61.175   20.575   34.6542  63.3583  23.      77.2875   8.6542   7.775\n",
      "  24.15     9.825   14.4583 247.5208   7.1417  22.3583   6.975    7.05\n",
      "  14.5     15.0458  26.2833   9.2167  79.2      6.75    11.5     36.75\n",
      "   7.7958  12.525   66.6      7.3125  61.3792   7.7333  69.55    16.1\n",
      "  15.75    20.525   55.      25.925   33.5     30.6958  25.4667  28.7125\n",
      "   0.      15.05    39.      22.025   50.       8.4042   6.4958  10.4625\n",
      "  18.7875  31.     113.275   27.      76.2917  90.       9.35    13.5\n",
      "   7.55    26.25    12.275    7.125   52.5542  20.2125  86.5    512.3292\n",
      "  79.65   153.4625 135.6333  19.5     29.7     77.9583  20.25    78.85\n",
      "  91.0792  12.875    8.85   151.55    30.5     23.25    12.35   110.8833\n",
      " 108.9     24.      56.9292  83.1583 262.375   14.     164.8667 134.5\n",
      "   6.2375  57.9792  28.5    133.65    15.9      9.225   35.      75.25\n",
      "  69.3     55.4417 211.5      4.0125 227.525   15.7417   7.7292  12.\n",
      " 120.      12.65    18.75     6.8583  32.5      7.875   14.4     55.9\n",
      "   8.1125  81.8583  19.2583  19.9667  89.1042  38.5      7.725   13.7917\n",
      "   9.8375   7.0458   7.5208  12.2875   9.5875  49.5042  78.2667  15.1\n",
      "   7.6292  22.525   26.2875  59.4      7.4958  34.0208  93.5    221.7792\n",
      " 106.425   49.5     71.      13.8625   7.8292  39.6     17.4     51.4792\n",
      "  26.3875  30.      40.125    8.7125  15.      33.      42.4     15.55\n",
      "  65.      32.3208   7.0542   8.4333  25.5875   9.8417   8.1375  10.1708\n",
      " 211.3375  57.      13.4167   7.7417   9.4833   7.7375   8.3625  23.45\n",
      "  25.9292   8.6833   8.5167   7.8875  37.0042   6.45     6.95     8.3\n",
      "   6.4375  39.4     14.1083  13.8583  50.4958   5.       9.8458  10.5167]\n",
      "\n",
      "\n",
      "Unique values for Cabin: \n",
      "[nan 'C85' 'C123' 'E46' 'G6' 'C103' 'D56' 'A6' 'C23 C25 C27' 'B78' 'D33'\n",
      " 'B30' 'C52' 'B28' 'C83' 'F33' 'F G73' 'E31' 'A5' 'D10 D12' 'D26' 'C110'\n",
      " 'B58 B60' 'E101' 'F E69' 'D47' 'B86' 'F2' 'C2' 'E33' 'B19' 'A7' 'C49'\n",
      " 'F4' 'A32' 'B4' 'B80' 'A31' 'D36' 'D15' 'C93' 'C78' 'D35' 'C87' 'B77'\n",
      " 'E67' 'B94' 'C125' 'C99' 'C118' 'D7' 'A19' 'B49' 'D' 'C22 C26' 'C106'\n",
      " 'C65' 'E36' 'C54' 'B57 B59 B63 B66' 'C7' 'E34' 'C32' 'B18' 'C124' 'C91'\n",
      " 'E40' 'T' 'C128' 'D37' 'B35' 'E50' 'C82' 'B96 B98' 'E10' 'E44' 'A34'\n",
      " 'C104' 'C111' 'C92' 'E38' 'D21' 'E12' 'E63' 'A14' 'B37' 'C30' 'D20' 'B79'\n",
      " 'E25' 'D46' 'B73' 'C95' 'B38' 'B39' 'B22' 'C86' 'C70' 'A16' 'C101' 'C68'\n",
      " 'A10' 'E68' 'B41' 'A20' 'D19' 'D50' 'D9' 'A23' 'B50' 'A26' 'D48' 'E58'\n",
      " 'C126' 'B71' 'B51 B53 B55' 'D49' 'B5' 'B20' 'F G63' 'C62 C64' 'E24' 'C90'\n",
      " 'C45' 'E8' 'B101' 'D45' 'C46' 'D30' 'E121' 'D11' 'E77' 'F38' 'B3' 'D6'\n",
      " 'B82 B84' 'D17' 'A36' 'B102' 'B69' 'E49' 'C47' 'D28' 'E17' 'A24' 'C50'\n",
      " 'B42' 'C148']\n",
      "\n",
      "\n",
      "Unique values for Embarked: \n",
      "['S' 'C' 'Q' nan]\n",
      "\n",
      "\n"
     ]
    }
   ],
   "source": [
    "columns = [\n",
    "    'Survived',\n",
    "    'Pclass',\n",
    "    'Sex',\n",
    "    'Age',\n",
    "    'SibSp',\n",
    "    'Parch',\n",
    "    'Ticket',\n",
    "    'Fare',\n",
    "    'Cabin',\n",
    "    'Embarked'\n",
    "]\n",
    "\n",
    "for key in columns:\n",
    "    print(\"Unique values for \" + key + \": \")\n",
    "    print(df[key].unique())\n",
    "    print(\"\\n\")"
   ]
  },
  {
   "cell_type": "markdown",
   "id": "c14678eb",
   "metadata": {},
   "source": [
    "After printing the unique values for all columns, we see there are ```nan``` values in the ```Age```, ```Cabin```, ```Embarked``` columns for a few rows. This indicates that there are missing values for those columns in a few of the rows. We will either need to do some processing on the rows missing values for these columns or we will have to exclude these rows from training and testing for our models. To solve the missing data problem in these columns, we will do some processing on it. \n",
    "\n",
    "We will hot encode the ```Embark``` points. There are 4 possible values Embark can contain. This includes S, C, Q, and empty within our dataset. S represents Southampton (England), C represents Cherbourg (France), and Q represents Queenstown (Ireland). This will create 3 new columns of S, C, and Q where its value is either 1 or 0. 1 indicating that the passenger embarked from that point and 0 indicating they did not. \n",
    "\n",
    "For ```Cabin```, since there are missing values, indicating that some passengers did not have cabins for their stay, we will turn this into a boolean to indicate whether or not the passenger had a cabin or not. \n",
    "\n",
    "As for rows that has a missing ```Age``` column, we will assign 100 \n",
    "to it.\n",
    "\n",
    "We will also create a boolean value of ```Sex```. ```Sex``` will either 1 for male and 0 for female after this.\n"
   ]
  },
  {
   "cell_type": "code",
   "execution_count": 6,
   "id": "c2fd7769",
   "metadata": {},
   "outputs": [
    {
     "name": "stdout",
     "output_type": "stream",
     "text": [
      "Index(['C', 'Q', 'S'], dtype='object')\n",
      "     C  Q  S\n",
      "0    0  0  1\n",
      "1    1  0  0\n",
      "2    0  0  1\n",
      "3    0  0  1\n",
      "4    0  0  1\n",
      "..  .. .. ..\n",
      "886  0  0  1\n",
      "887  0  0  1\n",
      "888  0  0  1\n",
      "889  1  0  0\n",
      "890  0  1  0\n",
      "\n",
      "[891 rows x 3 columns]\n"
     ]
    }
   ],
   "source": [
    "# one hot encoding of Embarked\n",
    "onehot_embarked = pd.get_dummies(df.Embarked) # Encoding Column Embarked\n",
    "print(onehot_embarked.columns)\n",
    "print(onehot_embarked)\n",
    "df = df.drop('Embarked',axis=1) # Drop column Embarked as it is now encoded\n",
    "df = df.join(onehot_embarked) # Join the encoded to df"
   ]
  },
  {
   "cell_type": "markdown",
   "id": "34851a31",
   "metadata": {},
   "source": [
    "After we created this hot encoding for the ```Embarked``` column, we need drop the column from our dataset and merge in the newly created hot encodings for it. Then, we'll run the boolean processing mentioned earlier on the ```Sex```, ```Cabin```, and ```Age``` columns. "
   ]
  },
  {
   "cell_type": "code",
   "execution_count": 7,
   "id": "7b5f0281",
   "metadata": {},
   "outputs": [
    {
     "name": "stdout",
     "output_type": "stream",
     "text": [
      "   Survived  Pclass  Sex   Age  SibSp  Parch            Ticket     Fare  \\\n",
      "0         0       3    1  22.0      1      0         A/5 21171   7.2500   \n",
      "1         1       1    0  38.0      1      0          PC 17599  71.2833   \n",
      "2         1       3    0  26.0      0      0  STON/O2. 3101282   7.9250   \n",
      "3         1       1    0  35.0      1      0            113803  53.1000   \n",
      "4         0       3    1  35.0      0      0            373450   8.0500   \n",
      "\n",
      "   Cabin  C  Q  S  \n",
      "0    147  0  0  1  \n",
      "1     81  1  0  0  \n",
      "2    147  0  0  1  \n",
      "3     55  0  0  1  \n",
      "4    147  0  0  1  \n"
     ]
    }
   ],
   "source": [
    "#Booleans\n",
    "label = preprocessing.LabelEncoder();\n",
    "df['Sex'] = label.fit_transform(df['Sex']) #Boolean for whether male or not\n",
    "df['Cabin'] = label.fit_transform(df['Cabin']) #Boolean for whether or not someone has a cabin\n",
    "\n",
    "#Fill in missing ages with 100\n",
    "df['Age'].fillna(100,inplace=True)\n",
    "\n",
    "print(df.head())"
   ]
  },
  {
   "cell_type": "markdown",
   "id": "b5935479",
   "metadata": {},
   "source": [
    "Now that we're done with processing our data, we need to determine our X and y with regard to our data. Since we want to predict whether a passenger will survive or not, the ```Survived``` column will be our dependent variable and the rest will be our indepedent variables. "
   ]
  },
  {
   "cell_type": "code",
   "execution_count": 8,
   "id": "675bf061",
   "metadata": {},
   "outputs": [],
   "source": [
    "independent_variables = ['Pclass', 'Sex', 'Age', 'SibSp', 'Parch', 'Fare', 'Cabin']\n",
    "for col in onehot_embarked.columns: # adding hot encoded embarked columns into independent variables\n",
    "    independent_variables.append(col)\n",
    "\n",
    "X = df[independent_variables]\n",
    "y = df['Survived']"
   ]
  },
  {
   "cell_type": "markdown",
   "id": "683eac52",
   "metadata": {},
   "source": [
    "After determining our X and y variables, we want to split our data up into a training set and a testing set. One will be used to train our models and the rest will be used to test whether our models can reliablely predict the survival of a passenger. We will do a 80/20 split in which 80% of our rows will be used for training while the rest of the 20% will be used for testing our models."
   ]
  },
  {
   "cell_type": "code",
   "execution_count": 16,
   "id": "bd385f77",
   "metadata": {},
   "outputs": [],
   "source": [
    "X_train, X_test, y_train, y_test = train_test_split(X.values, y.values, test_size = 0.2, random_state = 0)"
   ]
  },
  {
   "cell_type": "markdown",
   "id": "2239d10b",
   "metadata": {},
   "source": [
    "The first model we will run our test set through is the Decision Tree model. We believe Decision Tree to be an ideal model for this kind of prediction as it is a classification algorithm and we want to classify our passengers as survived or not. "
   ]
  },
  {
   "cell_type": "code",
   "execution_count": 17,
   "id": "ca053f10",
   "metadata": {
    "scrolled": false
   },
   "outputs": [
    {
     "data": {
      "image/png": "[encoded data removed]",
      "text/plain": [
       "<Figure size 432x288 with 1 Axes>"
      ]
     },
     "metadata": {
      "needs_background": "light"
     },
     "output_type": "display_data"
    }
   ],
   "source": [
    "#First we apply Decision Tree (Model 1)\n",
    "model1 = tree.DecisionTreeClassifier().fit(X.values, y.values)\n",
    "y_pred = model1.predict(X_test)\n",
    "\n",
    "#Plot Decision Tree (Model 1)\n",
    "tree.plot_tree(model1)\n",
    "plt.show()"
   ]
  },
  {
   "cell_type": "markdown",
   "id": "df9c5a01",
   "metadata": {},
   "source": [
    "After running our model and generating a Decision Tree with our training set, we will calculate the accuracy of it against our test set."
   ]
  },
  {
   "cell_type": "code",
   "execution_count": 18,
   "id": "a66ead70",
   "metadata": {},
   "outputs": [
    {
     "name": "stdout",
     "output_type": "stream",
     "text": [
      "Decision Tree Accuracy:  0.9888268156424581\n",
      "Precision  0.9855072463768116\n",
      "Recall  0.9855072463768116\n",
      "f1 score  0.9855072463768116\n",
      "roc-auc score: 0.9882081686429514\n"
     ]
    }
   ],
   "source": [
    "print(\"Decision Tree Accuracy: \", accuracy_score(y_test, y_pred))\n",
    "print (\"Precision \", precision_score(y_test, y_pred))\n",
    "print (\"Recall \", recall_score(y_test, y_pred))\n",
    "print (\"f1 score \", f1_score(y_test, y_pred))\n",
    "print(\"roc-auc score:\", roc_auc_score(y_test, y_pred))"
   ]
  },
  {
   "cell_type": "markdown",
   "id": "480d805a",
   "metadata": {},
   "source": [
    "TODO: ENTER ANALYSIS FOR DECISION TREE"
   ]
  },
  {
   "cell_type": "markdown",
   "id": "74293ee8",
   "metadata": {},
   "source": [
    "The second model we will run is the Logistic Regression model. We believe Logistic Regression to be good model to train with our data because it maps results to a binary value of either 0 or 1. Our possible outputs for this dataset is either the passenger survived or not, 1 indicating they survived and 0 indicating they did not. Thus, Logistic Regression sounds like it will work well with our goals."
   ]
  },
  {
   "cell_type": "code",
   "execution_count": 19,
   "id": "8c145d1c",
   "metadata": {},
   "outputs": [],
   "source": [
    "model2 = LogisticRegression(max_iter = 2000).fit(X_train, y_train)\n",
    "y_pred = model2.predict(X_test)"
   ]
  },
  {
   "cell_type": "markdown",
   "id": "d9ba5eb3",
   "metadata": {},
   "source": [
    "After generating our Logistic Regression model using our training set, we want to run against our test set and measure its accuracy score. We also want to look at its ROC curve and its AUC score to see how our model performed on the test set. "
   ]
  },
  {
   "cell_type": "code",
   "execution_count": 25,
   "id": "9d00e9ed",
   "metadata": {},
   "outputs": [
    {
     "name": "stdout",
     "output_type": "stream",
     "text": [
      "Logistic Regression Accuracy:  0.7988826815642458\n"
     ]
    },
    {
     "data": {
      "image/png": "[encoded data removed]",
      "text/plain": [
       "<Figure size 432x288 with 1 Axes>"
      ]
     },
     "metadata": {
      "needs_background": "light"
     },
     "output_type": "display_data"
    }
   ],
   "source": [
    "#Get accuracy score for Logistic Regression (Model 2)\n",
    "print(\"Logistic Regression Accuracy: \", accuracy_score(y_test, y_pred))\n",
    "\n",
    "#ROC Curve and AUC Score for Logistic Regression Model\n",
    "y_pred_proba = model2.predict_proba(X_test)[::,1]\n",
    "fpr, tpr, _ = roc_curve(y_test, y_pred_proba)\n",
    "auc = roc_auc_score(y_test, y_pred_proba)\n",
    "plt.plot(fpr,tpr,label=\"data, AUC = \" + str(auc))\n",
    "plt.legend(loc = 4)\n",
    "plt.show()"
   ]
  },
  {
   "cell_type": "markdown",
   "id": "70ab9a56",
   "metadata": {},
   "source": [
    "TODO: ENTER Analysis of Logistic Regression "
   ]
  },
  {
   "cell_type": "markdown",
   "id": "264dae7d",
   "metadata": {},
   "source": [
    "The third model we will run is the K-Nearest Neighbors model. TODO: Enter why we chose this model cause im not too familiar with it"
   ]
  },
  {
   "cell_type": "code",
   "execution_count": 26,
   "id": "980a5a7a",
   "metadata": {},
   "outputs": [],
   "source": [
    "model3 = KNeighborsClassifier(n_neighbors = 5).fit(X_train, y_train)\n",
    "y_pred = model3.predict(X_test)"
   ]
  },
  {
   "cell_type": "markdown",
   "id": "5aa0f0dd",
   "metadata": {},
   "source": [
    "After training our K-Nearest Neighbors model, we will run it against our test set to see how well it performed."
   ]
  },
  {
   "cell_type": "code",
   "execution_count": 27,
   "id": "3351666f",
   "metadata": {},
   "outputs": [
    {
     "name": "stdout",
     "output_type": "stream",
     "text": [
      "K-Nearest Neighbors Accuracy:  0.7486033519553073\n"
     ]
    }
   ],
   "source": [
    "print(\"K-Nearest Neighbors Accuracy: \", accuracy_score(y_test, y_pred))\n"
   ]
  },
  {
   "cell_type": "markdown",
   "id": "72d19df2",
   "metadata": {},
   "source": [
    "EXPLAIN results"
   ]
  },
  {
   "cell_type": "code",
   "execution_count": null,
   "id": "de12c851",
   "metadata": {},
   "outputs": [],
   "source": []
  }
 ],
 "metadata": {
  "kernelspec": {
   "display_name": "Python 3",
   "language": "python",
   "name": "python3"
  },
  "language_info": {
   "codemirror_mode": {
    "name": "ipython",
    "version": 3
   },
   "file_extension": ".py",
   "mimetype": "text/x-python",
   "name": "python",
   "nbconvert_exporter": "python",
   "pygments_lexer": "ipython3",
   "version": "3.8.8"
  }
 },
 "nbformat": 4,
 "nbformat_minor": 5
}
